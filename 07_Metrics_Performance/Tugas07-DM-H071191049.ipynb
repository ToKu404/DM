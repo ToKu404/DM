{
  "nbformat": 4,
  "nbformat_minor": 0,
  "metadata": {
    "colab": {
      "name": "Tugas07-DM-H071191049",
      "provenance": [],
      "collapsed_sections": []
    },
    "kernelspec": {
      "display_name": "Python 3",
      "name": "python3"
    },
    "language_info": {
      "name": "python"
    }
  },
  "cells": [
    {
      "cell_type": "markdown",
      "metadata": {
        "id": "TnRbIURF7ZQA"
      },
      "source": [
        "# Tugas 07 - Machine Learning Performance Measure\n",
        "\n",
        "Nama : Muh.Ikhsan\n",
        "\n",
        "NIM  : H071191049"
      ]
    },
    {
      "cell_type": "markdown",
      "metadata": {
        "id": "QVJaALv9AjUu"
      },
      "source": [
        "Performance Measure (Pengukuran kinerja) digunakan untuk mengevaluasi model yang dibuat apakah sudah bekerja dengan baik atau belum.\n",
        "\n",
        "Metrics adalah ukuran penilaian kuantitatif yang biasa digunakan untuk menilai, membandingkan, dan melacak kinerja atau produksi. \n",
        "\n",
        "Definisi TP, FP, TN, dan FN :\n",
        "- TP = True Positive – Model memprediksi kelas positif dengan benar, menjadi kelas positif.\n",
        "- FP = False Positive – Model salah memprediksi kelas negatif, menjadi kelas positif.\n",
        "- FN = False Negative – Model salah memprediksi kelas positif, menjadi kelas negatif.\n",
        "- TN = True Negative – Model memprediksi kelas negatif dengan benar, menjadi kelas negatif."
      ]
    },
    {
      "cell_type": "markdown",
      "metadata": {
        "id": "yLQCnYAp-t2E"
      },
      "source": [
        "## 1. Klasifikasi"
      ]
    },
    {
      "cell_type": "markdown",
      "metadata": {
        "id": "mtPQgXM78B--"
      },
      "source": [
        "- Klasifikasi merupakan supervised learning (pembelajaran dengan pengawasan), Pembelajaran terawasi adalah metode pembelajaran mesin di mana model dilatih menggunakan data berlabel (y).\n",
        "- Klasifikasi merupakan proses memprediksi kelas/label/y dari titik data (x) yang diberikan.\n",
        "- Model yang digunakan untuk klasifikasi akan dilatih terlebih dahulu menggunakan data berlabel kemudian digunakan untuk mengklasifikasikan label data input yang diberikan.\n",
        "- Kelas/Label dari klasifikasi berupa variabel diskrit.\n",
        "- Contoh Algoritma klasifikasi ialah Decision Tree, Naive Bayes, Logistic regression, Linear Discriminant Analyst, K-Nearest Neighbor"
      ]
    },
    {
      "cell_type": "markdown",
      "metadata": {
        "id": "pnLlHBxeB_mm"
      },
      "source": [
        "Berikut Contoh Klasifikasi"
      ]
    },
    {
      "cell_type": "code",
      "metadata": {
        "id": "X5_f-VGWTJCU"
      },
      "source": [
        "# Import Library\n",
        "from sklearn.multiclass import OneVsRestClassifier\n",
        "from sklearn.linear_model import LogisticRegression\n",
        "from sklearn.model_selection import train_test_split\n",
        "from sklearn.metrics import roc_curve\n",
        "from sklearn.metrics import roc_auc_score, classification_report\n",
        "from sklearn.datasets import make_classification\n",
        "from sklearn.model_selection import train_test_split\n",
        "import pandas as pd\n",
        "import matplotlib.pyplot as plt"
      ],
      "execution_count": 1,
      "outputs": []
    },
    {
      "cell_type": "markdown",
      "metadata": {
        "id": "IWm4xM2iCdIt"
      },
      "source": [
        "Membuat contoh datasets masalah klasifikasi yang memiliki \n",
        "- 1000 jumlah sample (baris), \n",
        "- 3 kelas/label, \n",
        "- 20 attribut atau fitur yang mana terdiri dari 3 fitur informative dan sisanya dapat berupa fitur berlebihan (redundant), fitur duplikat, atau fitur tidak berguna yang diambil secara acak.\n",
        "- Dengan random state 42 (Random state bilangan bulat yang populer adalah 42 atau 0) "
      ]
    },
    {
      "cell_type": "code",
      "metadata": {
        "id": "4ei2MQyYTOxD"
      },
      "source": [
        "# Mendefinisikan dataset\n",
        "X, y = make_classification(n_samples=1000, n_classes=3, n_features=20, n_informative=3, random_state=42)"
      ],
      "execution_count": 2,
      "outputs": []
    },
    {
      "cell_type": "markdown",
      "metadata": {
        "id": "AI6NM0YQG_vx"
      },
      "source": [
        "Membagi dataset menjadi data latih dan data uji, dengan rasio data uji = 40% dan data latih = 60%."
      ]
    },
    {
      "cell_type": "code",
      "metadata": {
        "id": "Iwu74TZZTQP5"
      },
      "source": [
        "# Membagi dataset menjadi data train dan data test\n",
        "X_train, X_test, y_train, y_test = train_test_split(X, y, test_size=0.4, random_state=42)"
      ],
      "execution_count": 3,
      "outputs": []
    },
    {
      "cell_type": "markdown",
      "metadata": {
        "id": "accTqFaKUXqC"
      },
      "source": [
        "Membuat dan melatih model klasifikasi, disini menggunakan strategi One-vs-Rest yang mana membagi klasifikasi multi-kelas menjadi satu masalah klasifikasi biner per kelas. kemudian algoritma klasifikasi yang digunakan ialah logistik regresi."
      ]
    },
    {
      "cell_type": "code",
      "metadata": {
        "id": "SfTsAaRQTRuu"
      },
      "source": [
        "# Mendefiniskan Model\n",
        "clf = OneVsRestClassifier(LogisticRegression())\n",
        "# Pemasangan atau melatih Model\n",
        "clf.fit(X_train, y_train)\n",
        "# Melakukan prediksi data test menggunakan model yang dibuat\n",
        "# predict akan mengembalikan kelas dengan probabilitas tertinggi\n",
        "pred = clf.predict(X_test)\n",
        "# predict_proba akan akan mengembalikan probilitas tiap kelas terhadap input yang diberikan\n",
        "pred_prob = clf.predict_proba(X_test)\n",
        "# predict proba kelas ke 2\n",
        "y_pred_proba_positive = pred_prob[:,1] \n",
        "y_true = y_test"
      ],
      "execution_count": 4,
      "outputs": []
    },
    {
      "cell_type": "markdown",
      "metadata": {
        "id": "c3My6UIS9Wnf"
      },
      "source": [
        "### 1. Accuracy (Akurasi)\n"
      ]
    },
    {
      "cell_type": "markdown",
      "metadata": {
        "id": "7DeIaOfUCyUG"
      },
      "source": [
        "- Akurasi dalam masalah klasifikasi adalah jumlah prediksi yang benar yang dibuat oleh model atas semua jenis prediksi yang dibuat.\n",
        "\n",
        "- Cara menghitung akurasi : \n",
        "\n",
        "  $Accuracy = \\frac{Jumlah\\,Prediksi\\,Benar}{Total\\,Seluruh\\,Prediksi}$\n",
        "\n",
        "  atau\n",
        "\n",
        "  ![accuracy](https://miro.medium.com/max/665/1*5XuZ_86Rfce3qyLt7XMlhw.png)\n",
        "\n",
        "  \n",
        "\n",
        "- Akurasi baik digunakan ketika target dalam data hampir seimbang, dan tidak baik ketika target dalam data adalah mayoritas dari satu kelas.\n",
        "\n",
        "Untuk mengukur skor akurasi dari suatu model dapat menggunakan \n",
        "```sklearn.metrics.accuracy_score```\n",
        "\n",
        "- Parameter pertama berupa label sebenarnya (y_true)\n",
        "- Parameter kedua berupa label hasil prediksi (y_pred)\n",
        "- Parameter ketiga ialah parameter normalize, nilai defaultnya true, \n",
        "  - jika normalize=True maka yang dikembalikan ialah fraksi sample yg diklasifikasikan dengan benar, atau nilai akurasi klasifikasi yang diperoleh berdasarkan persamaan sebelumnya.\n",
        "  - jika normalize=False maka yang dikembalikan ialah jumlah sample yang diklasifikasikan dengan benar.\n",
        "\n",
        "Dalam klasifikasi multilabel, fungsi mengembalikan akurasi subset. Jika seluruh rangkaian label yang diprediksi untuk sampel benar-benar cocok dengan rangkaian label yang sebenarnya, maka akurasi subset adalah 1,0; jika tidak, itu adalah 0,0.\n"
      ]
    },
    {
      "cell_type": "code",
      "metadata": {
        "id": "MYJfHXoGb3eM"
      },
      "source": [
        "# Import Library\n",
        "from sklearn.metrics import accuracy_score\n",
        "# Mengembalikan akurasi klasifikasi\n",
        "CA = accuracy_score(y_true, pred) \n",
        "# Mengembalikan jumlah klasifikasi benar\n",
        "NCCS = accuracy_score(y_true, pred, normalize=False)    "
      ],
      "execution_count": 5,
      "outputs": []
    },
    {
      "cell_type": "markdown",
      "metadata": {
        "id": "IhDScmHxRrjj"
      },
      "source": [
        "Jadi nilai akurasi dari klasifikasi yang dilakukan ialah"
      ]
    },
    {
      "cell_type": "code",
      "metadata": {
        "colab": {
          "base_uri": "https://localhost:8080/"
        },
        "id": "JWLkoYYKuIJ3",
        "outputId": "b01e1458-e30a-4533-c9f8-5540d01ccfd8"
      },
      "source": [
        "CA"
      ],
      "execution_count": 6,
      "outputs": [
        {
          "output_type": "execute_result",
          "data": {
            "text/plain": [
              "0.6175"
            ]
          },
          "metadata": {},
          "execution_count": 6
        }
      ]
    },
    {
      "cell_type": "markdown",
      "metadata": {
        "id": "d_Y6ezLYRyPB"
      },
      "source": [
        "Jumlah yang diklasifikasikan dengan benar"
      ]
    },
    {
      "cell_type": "code",
      "metadata": {
        "colab": {
          "base_uri": "https://localhost:8080/"
        },
        "id": "ERXR2CEKuIJ6",
        "outputId": "cb23d825-ded6-4046-8528-6feac9866bdd"
      },
      "source": [
        "NCCS"
      ],
      "execution_count": 7,
      "outputs": [
        {
          "output_type": "execute_result",
          "data": {
            "text/plain": [
              "247"
            ]
          },
          "metadata": {},
          "execution_count": 7
        }
      ]
    },
    {
      "cell_type": "markdown",
      "metadata": {
        "id": "3iDuQ6tx9Zg1"
      },
      "source": [
        "### 2. Precision, Recall, dan F1-Score"
      ]
    },
    {
      "cell_type": "markdown",
      "metadata": {
        "id": "6-KHTwOkSIi5"
      },
      "source": [
        "#### a. Precision\n",
        "Presisi adalah berapa banyak / proporsi prediksi yang benar di antara semua prediksi dari kelas tertentu. Dengan kata lain, ini adalah proporsi true positif di antara semua prediksi positif.\n",
        "\n",
        "$Precision = \\frac{TP}{TP+FT}$\n",
        "\n",
        "\n",
        "#### b. Recall\n",
        "Recall adalah seberapa relevan proporsi prediksi benar yang dihasilkan. Dengan kata lain, ini adalah proporsi true positif di antara semua contoh yang true.\n",
        "\n",
        "$Recall = \\frac{TP}{FN+TP}$\n",
        "\n",
        "#### c. F1-Score\n",
        "F1-Score adalah rata-rata harmonik dari Precision dan Recall. \n",
        "\n",
        "$HarmonikMean = \\frac{2xy}{x+y}$\n",
        "\n",
        "Sehingga : \n",
        "\n",
        "F1-Score = HarmonicMean(Precision, Recall)\n",
        "\n",
        "F1-Score = $2\\times \\frac{Precision\\times {Recall}}{Precision+ {Recall}}$"
      ]
    },
    {
      "cell_type": "code",
      "metadata": {
        "id": "aIgRkJ6NGVPQ"
      },
      "source": [
        "# label\n",
        "labels = [\"label1\",\"label2\",\"label3\"]"
      ],
      "execution_count": 8,
      "outputs": []
    },
    {
      "cell_type": "markdown",
      "metadata": {
        "id": "2uGvE_i8BhLP"
      },
      "source": [
        "Fungsi membangun sebuah laporan teks yang menunjukkan metrik klasifikasi utama.\n",
        "Ringkasan yang diberikan berupa precision, recall, dan f1-score.\n",
        "Rata-rata yang dikembalikan berupa global_accuracy, macro_average l, weighted_average, dan micro_average.\n",
        "\n",
        "\n",
        "- Global Accuracy, Global accuracy dapat dihitung dengan menjumlahkan nilai di seluruh kelas untuk mendapatkan jumlah FP, FN, TP, dan TN global untuk pengklasifikasi secara keseluruhan.\n",
        "- Macro Average, Serupa dengan akurasi global, kita menghitung precision global dan recall skor dari jumlah FP, FN, TP, dan TN di seluruh kelas. Kemudian dapat digunakan menghitung F1-Score global.\n",
        "-  Micro Average, Cara lain untuk mendapatkan satu indikator kinerja adalah dengan merata-ratakan precision score dan recall score dari masing-masing kelas. Proses ini menghasilkan skor precision dan recall global yang kemudian dapat kita gunakan untuk menghitung skor F1 global. Pada library ini Micro Average hanya ditampilkan untuk multi label\n",
        "\n"
      ]
    },
    {
      "cell_type": "code",
      "metadata": {
        "colab": {
          "base_uri": "https://localhost:8080/"
        },
        "id": "ZyPKlBIs6Po8",
        "outputId": "09b5dc74-716c-43be-c403-766a89e1e4d6"
      },
      "source": [
        "print(classification_report(y_true, pred, target_names=labels))"
      ],
      "execution_count": 9,
      "outputs": [
        {
          "output_type": "stream",
          "name": "stdout",
          "text": [
            "              precision    recall  f1-score   support\n",
            "\n",
            "      label1       0.62      0.71      0.66       133\n",
            "      label2       0.45      0.29      0.36       130\n",
            "      label3       0.70      0.84      0.76       137\n",
            "\n",
            "    accuracy                           0.62       400\n",
            "   macro avg       0.59      0.61      0.59       400\n",
            "weighted avg       0.59      0.62      0.60       400\n",
            "\n"
          ]
        }
      ]
    },
    {
      "cell_type": "markdown",
      "metadata": {
        "id": "I2jHX7tN9tMj"
      },
      "source": [
        "### 3. Confusion Matrix"
      ]
    },
    {
      "cell_type": "markdown",
      "metadata": {
        "id": "GYRZRbcANRED"
      },
      "source": [
        "Confusion matrix adalah tabel ringkasan dari jumlah prediksi yang benar dan salah (atau nilai aktual dan prediksi) yang dihasilkan oleh classifier (atau model klasifikasi) untuk tugas klasifikasi biner. \n",
        "\n",
        "\n",
        "<img src=\"https://miro.medium.com/max/863/1*0exdQRxrXQgIBZdPFIxbTw.png\" alt=\"drawing\" width=\"400\"/>\n",
        "\n",
        "\n",
        "Untuk Kasus Multilabel, Tidak seperti klasifikasi biner, tidak ada kelas positif atau negatif di sini. \n",
        "Katakanlah, kami memiliki dataset yang memiliki tiga label kelas, yaitu Apple , Orange dan Mango.\n",
        "\n",
        "<img src=\"https://miro.medium.com/max/1000/1*yH2SM0DIUQlEiveK42NnBg.png\" alt=\"drawing\" width=\"400\"/>\n",
        "\n",
        "Misal untuk kelas apel memiliki nilai :\n",
        "- TP = 7\n",
        "- TN = (2+3+2+1) = 8\n",
        "- FP = (8+9) = 17\n",
        "- FN = (1+3) = 4\n",
        "\n",
        "Untuk menghitung confusion metrix bisa menggunakan library berikut\n",
        "```\n",
        "sklearn.metrics.confusion_matrix\n",
        "```"
      ]
    },
    {
      "cell_type": "markdown",
      "metadata": {
        "id": "pJRcnhBmTTS-"
      },
      "source": [
        "Berikut menghitung confusion matrix menggunakan sklearn.metrixs.confusion_matrix kemudian dicetak langsung dalam bentuk array"
      ]
    },
    {
      "cell_type": "code",
      "metadata": {
        "colab": {
          "base_uri": "https://localhost:8080/"
        },
        "id": "sxn1pjud6PpA",
        "outputId": "533d55d5-cefb-41cf-a079-0d2997a30d8c"
      },
      "source": [
        "# Import Library\n",
        "from sklearn.metrics import confusion_matrix\n",
        "# Menghitung confusion matrix\n",
        "cm = confusion_matrix(pred, y_true)\n",
        "cm"
      ],
      "execution_count": 10,
      "outputs": [
        {
          "output_type": "execute_result",
          "data": {
            "text/plain": [
              "array([[ 94,  50,   7],\n",
              "       [ 31,  38,  15],\n",
              "       [  8,  42, 115]])"
            ]
          },
          "metadata": {},
          "execution_count": 10
        }
      ]
    },
    {
      "cell_type": "markdown",
      "metadata": {
        "id": "LDAibpR_Tctm"
      },
      "source": [
        "Berikut cara visualisasi confusion matrix dengan seaborn"
      ]
    },
    {
      "cell_type": "code",
      "metadata": {
        "colab": {
          "base_uri": "https://localhost:8080/",
          "height": 444
        },
        "id": "P0a5yoQz6BV3",
        "outputId": "d7cb2d3d-1fb1-40d2-c2de-40c222cec447"
      },
      "source": [
        "  import seaborn as sns\n",
        "\n",
        "  #Visualisasi Confussion Matrix\n",
        "  model_df_cm = pd.DataFrame(cm, labels, labels) \n",
        "  plt.figure(figsize = (10,7))\n",
        "  plt.title('Confussion Matrix') \n",
        "  sns.set(font_scale=1) #for label size \n",
        "  sns.heatmap(model_df_cm, annot=True, annot_kws={\"size\": 15}) # font size \n",
        "  plt.show()"
      ],
      "execution_count": 11,
      "outputs": [
        {
          "output_type": "display_data",
          "data": {
            "image/png": "[encoded data removed]",
            "text/plain": [
              "<Figure size 720x504 with 2 Axes>"
            ]
          },
          "metadata": {
            "needs_background": "light"
          }
        }
      ]
    },
    {
      "cell_type": "markdown",
      "metadata": {
        "id": "vDzOkc8jTRhP"
      },
      "source": [
        "Berdasarkan confusion matrix diatas maka :\n",
        "\n",
        "Untuk Label 1\n",
        "- TP = 94\n",
        "- TN = (38+15+42+115) = 210\n",
        "- FP = (50+7) = 57\n",
        "- FN = (31+8) = 39\n",
        "\n",
        "Untuk Label 2 \n",
        "- TP = 38\n",
        "- TN = (94+7+8+115) = 224\n",
        "- FP = (31+15) = 46\n",
        "- FN = (50+42) = 92\n",
        "\n",
        "Untuk Label 3\n",
        "- TP = 115\n",
        "- TN = (94+50+31+38) = 213\n",
        "- FP = (8+42) = 50\n",
        "- FN = (7+15) = 22"
      ]
    },
    {
      "cell_type": "markdown",
      "metadata": {
        "id": "FgY6URxM9yO6"
      },
      "source": [
        "### 4. ROC-Curve"
      ]
    },
    {
      "cell_type": "markdown",
      "metadata": {
        "id": "iK0X_krVcyLP"
      },
      "source": [
        "Roc-Curve dibangun dengan memplot true positive rate (TPR) terhadap false positive rate (FPR) dengan sejumlah nilai ambang batas kandidat yang berbeda antara 0,0 dan 1,0. \n",
        "Kurva Roc atau Reciever Receiver operating characteristic dapat dihitung menggunakan library ```sklearn.metrics.roc_curve``` \n",
        "dengan parameter berupa:\n",
        "- y_true : label yang ingin kita lihat roc curvenya\n",
        "- y_score : skor dari target pada y-true yang dapat berupa probabilitas dari kelas positif, nilai kepercayaan, atau ukuran keputusan\n",
        "- pos_label : Jika label bukan {-1, 1} atau {0, 1}, maka pos label harus diberikan secara eksplirsit\n",
        "\n",
        "![roc](https://46gyn61z4i0t1u1pnq2bbk2e-wpengine.netdna-ssl.com/wp-content/uploads/2018/07/ROC-curve-1-360x296.jpg)"
      ]
    },
    {
      "cell_type": "markdown",
      "metadata": {
        "id": "Vo4qsb2icGVt"
      },
      "source": [
        "Menghitung roc-curve tiap kelas"
      ]
    },
    {
      "cell_type": "code",
      "metadata": {
        "id": "engcV7bRTT3Q"
      },
      "source": [
        "fpr = {}\n",
        "tpr = {}\n",
        "thresh ={}\n",
        "\n",
        "n_class = 3\n",
        "for i in range(n_class):    \n",
        "    fpr[i], tpr[i], thresh[i] = roc_curve(y_test, pred_prob[:,i], pos_label=i)"
      ],
      "execution_count": 12,
      "outputs": []
    },
    {
      "cell_type": "code",
      "metadata": {
        "colab": {
          "base_uri": "https://localhost:8080/",
          "height": 301
        },
        "id": "GqSKygA7Nrvo",
        "outputId": "cddc13a9-4e68-49fa-fadd-300bfddd7e3c"
      },
      "source": [
        "# plotting    \n",
        "plt.plot(fpr[0], tpr[0], linestyle='--',color='orange', label='Class 0 vs Rest')\n",
        "plt.plot(fpr[1], tpr[1], linestyle='--',color='green', label='Class 1 vs Rest')\n",
        "plt.plot(fpr[2], tpr[2], linestyle='--',color='blue', label='Class 2 vs Rest')\n",
        "plt.title('Multiclass ROC curve')\n",
        "plt.xlabel('False Positive Rate')\n",
        "plt.ylabel('True Positive rate')\n",
        "plt.legend(loc='best')\n",
        "plt.savefig('Multiclass ROC',dpi=300);"
      ],
      "execution_count": 13,
      "outputs": [
        {
          "output_type": "display_data",
          "data": {
            "image/png": "[encoded data removed]",
            "text/plain": [
              "<Figure size 432x288 with 1 Axes>"
            ]
          },
          "metadata": {}
        }
      ]
    },
    {
      "cell_type": "markdown",
      "metadata": {
        "id": "5YLCR5algpr-"
      },
      "source": [
        "Dapat lihat berdasarkan curva roc bahwa pengklasifikasian untuk class 2 menghasilkan skor prediksi paling baik diantara kelas yang lain"
      ]
    },
    {
      "cell_type": "markdown",
      "metadata": {
        "id": "sxpUTYsN92kx"
      },
      "source": [
        "## 2. Regresi/Estimasi/Prediksi"
      ]
    },
    {
      "cell_type": "markdown",
      "metadata": {
        "id": "m6-oTGQddfM6"
      },
      "source": [
        "- Regresi juga merupakan supervised learning \n",
        "- Regresi mirip dengan klasifikasi akan tetapi regresi digunakan untuk memprediksi nilai numerik atau kontinu sedangkan klasifikasi memprediksi nilai diskrit.\n",
        "- Regresi ialah proses memprediksi nilai kontinu berdasarkan kumpulan data tertentu.\n",
        "- Contoh penggunaan regresi untuk memprediksi harga suatu mobil.\n",
        "- Tipe regresi misalnya linear regresi dan logistik regresi"
      ]
    },
    {
      "cell_type": "markdown",
      "metadata": {
        "id": "tHkcIVix3CG8"
      },
      "source": [
        "Berikut Contoh regresi"
      ]
    },
    {
      "cell_type": "code",
      "metadata": {
        "id": "Rv402xXf93W2"
      },
      "source": [
        "# Impor Library\n",
        "from sklearn.datasets import load_iris\n",
        "import numpy as np\n",
        "import pandas as pd\n",
        "from sklearn.linear_model import LinearRegression, LogisticRegression\n",
        "from sklearn.model_selection import train_test_split\n",
        "from matplotlib import pyplot as plt"
      ],
      "execution_count": 14,
      "outputs": []
    },
    {
      "cell_type": "markdown",
      "metadata": {
        "id": "g114SCDn3ObR"
      },
      "source": [
        "Membuat contoh dataframe dengan kamre sebagai x dan harga sebagai y"
      ]
    },
    {
      "cell_type": "code",
      "metadata": {
        "colab": {
          "base_uri": "https://localhost:8080/",
          "height": 295
        },
        "id": "ST4OB7LP9sCN",
        "outputId": "388daced-923d-4648-daab-b6d95dee30f5"
      },
      "source": [
        "# Membuat data frame\n",
        "data = pd.DataFrame([[8, 7], [2, 3], [6, 7], [9, 10], [4, 2], [5, 6], [7, 8], [3, 3]])\n",
        "# Memberikan nama untuk attribut\n",
        "data.columns = ['Kamera(x)', 'Harga(y)']\n",
        "data"
      ],
      "execution_count": 15,
      "outputs": [
        {
          "output_type": "execute_result",
          "data": {
            "text/html": [
              "<div>\n",
              "<style scoped>\n",
              "    .dataframe tbody tr th:only-of-type {\n",
              "        vertical-align: middle;\n",
              "    }\n",
              "\n",
              "    .dataframe tbody tr th {\n",
              "        vertical-align: top;\n",
              "    }\n",
              "\n",
              "    .dataframe thead th {\n",
              "        text-align: right;\n",
              "    }\n",
              "</style>\n",
              "<table border=\"1\" class=\"dataframe\">\n",
              "  <thead>\n",
              "    <tr style=\"text-align: right;\">\n",
              "      <th></th>\n",
              "      <th>Kamera(x)</th>\n",
              "      <th>Harga(y)</th>\n",
              "    </tr>\n",
              "  </thead>\n",
              "  <tbody>\n",
              "    <tr>\n",
              "      <th>0</th>\n",
              "      <td>8</td>\n",
              "      <td>7</td>\n",
              "    </tr>\n",
              "    <tr>\n",
              "      <th>1</th>\n",
              "      <td>2</td>\n",
              "      <td>3</td>\n",
              "    </tr>\n",
              "    <tr>\n",
              "      <th>2</th>\n",
              "      <td>6</td>\n",
              "      <td>7</td>\n",
              "    </tr>\n",
              "    <tr>\n",
              "      <th>3</th>\n",
              "      <td>9</td>\n",
              "      <td>10</td>\n",
              "    </tr>\n",
              "    <tr>\n",
              "      <th>4</th>\n",
              "      <td>4</td>\n",
              "      <td>2</td>\n",
              "    </tr>\n",
              "    <tr>\n",
              "      <th>5</th>\n",
              "      <td>5</td>\n",
              "      <td>6</td>\n",
              "    </tr>\n",
              "    <tr>\n",
              "      <th>6</th>\n",
              "      <td>7</td>\n",
              "      <td>8</td>\n",
              "    </tr>\n",
              "    <tr>\n",
              "      <th>7</th>\n",
              "      <td>3</td>\n",
              "      <td>3</td>\n",
              "    </tr>\n",
              "  </tbody>\n",
              "</table>\n",
              "</div>"
            ],
            "text/plain": [
              "   Kamera(x)  Harga(y)\n",
              "0          8         7\n",
              "1          2         3\n",
              "2          6         7\n",
              "3          9        10\n",
              "4          4         2\n",
              "5          5         6\n",
              "6          7         8\n",
              "7          3         3"
            ]
          },
          "metadata": {},
          "execution_count": 15
        }
      ]
    },
    {
      "cell_type": "markdown",
      "metadata": {
        "id": "U3OSM2QW3XHa"
      },
      "source": [
        "Mendefinisikan x dan y"
      ]
    },
    {
      "cell_type": "code",
      "metadata": {
        "id": "9vIx-tPT9s_n"
      },
      "source": [
        "X = data[\"Kamera(x)\"].values[:, np.newaxis] # np.newaxis menambahkan dimensi ke array \n",
        "y = data[\"Harga(y)\"].values"
      ],
      "execution_count": 16,
      "outputs": []
    },
    {
      "cell_type": "markdown",
      "metadata": {
        "id": "VpKtcqye3cu5"
      },
      "source": [
        "Membagi data menjadi data test dan data train dengan ratio data test = 20% data train = 80%"
      ]
    },
    {
      "cell_type": "code",
      "metadata": {
        "id": "cS2ZK8Nd9wXk"
      },
      "source": [
        "X_train, X_test, y_train, y_test = train_test_split(X, y, test_size =  0.2)"
      ],
      "execution_count": 17,
      "outputs": []
    },
    {
      "cell_type": "markdown",
      "metadata": {
        "id": "b0WTpfdZ3kaz"
      },
      "source": [
        "Membuat model Linear Regresi berdasarkan data sebelumnya, karena datanya terlalu sedikit maka data latih yang digunakan untuk menfit model adalah data keseluruhan, karena setelah dites performanya ternyata terjadi overfitting"
      ]
    },
    {
      "cell_type": "code",
      "metadata": {
        "colab": {
          "base_uri": "https://localhost:8080/"
        },
        "id": "cCfg3b5i9y3C",
        "outputId": "78b265f7-4b2a-498a-a4c0-35e801bbd7f4"
      },
      "source": [
        "# Mendefinisikan Model\n",
        "lr = LinearRegression()\n",
        "# Fit Model\n",
        "lr.fit(X, y)"
      ],
      "execution_count": 18,
      "outputs": [
        {
          "output_type": "execute_result",
          "data": {
            "text/plain": [
              "LinearRegression(copy_X=True, fit_intercept=True, n_jobs=None, normalize=False)"
            ]
          },
          "metadata": {},
          "execution_count": 18
        }
      ]
    },
    {
      "cell_type": "markdown",
      "metadata": {
        "id": "ZakyCbct37k7"
      },
      "source": [
        "Melakukan prediksi berdasarkan model"
      ]
    },
    {
      "cell_type": "code",
      "metadata": {
        "id": "5qhb6den95O6"
      },
      "source": [
        "y_pred = lr.predict(X_test)"
      ],
      "execution_count": 19,
      "outputs": []
    },
    {
      "cell_type": "markdown",
      "metadata": {
        "id": "34OtFVsNcO40"
      },
      "source": [
        "### 1.MAE"
      ]
    },
    {
      "cell_type": "markdown",
      "metadata": {
        "id": "EBp1Z4cHi2TY"
      },
      "source": [
        "MAE atau Mean Absolute Error, mengambil rata-rata error (kesalahan prediksi) dari setiap sampel dalam kumpulan data dan memberikan output.\n",
        "\n",
        "Kesalahan Prediksi = Nilai Aktual - Nilai Prediksi.\n",
        "\n",
        "Kemudian di absolutekan dan dicari rata-ratanya untuk setiap sampel\n",
        "\n",
        "Sehingga,\n",
        "\n",
        "$MAE = \\frac{\\sum_{i=1}^{n}abs(y_i-\\hat{y_i})}{n}$\n",
        "\n",
        "Untuk menghitung MAE dapat langsung menggunakan library ```sklearn.metrics.mean_absolute_error```"
      ]
    },
    {
      "cell_type": "code",
      "metadata": {
        "colab": {
          "base_uri": "https://localhost:8080/"
        },
        "id": "GG4OksbN-Dhu",
        "outputId": "d92d41a4-affc-4c33-ef72-512aa0dce7f4"
      },
      "source": [
        "from sklearn.metrics import mean_absolute_error\n",
        "print(\"MAE\",mean_absolute_error(y_test,y_pred))"
      ],
      "execution_count": 20,
      "outputs": [
        {
          "output_type": "stream",
          "name": "stdout",
          "text": [
            "MAE 0.821428571428571\n"
          ]
        }
      ]
    },
    {
      "cell_type": "markdown",
      "metadata": {
        "id": "fDtDGpDocQfG"
      },
      "source": [
        "### 2.MSE"
      ]
    },
    {
      "cell_type": "markdown",
      "metadata": {
        "id": "wgSqoQkXlRLU"
      },
      "source": [
        "Mean Squared Error atau MSE dihitung dengan mengambil rata-rata kuadrat selisih antara nilai asli dan nilai prediksi dari data.\n",
        "\n",
        "Sehingga persamaanya seperti berikut,\n",
        "\n",
        "$MSE = \\sum_{i=1}^{n}{\\frac{(y_i-\\hat{y_i})^2}{n}}$\n",
        "\n",
        "MSE dapat diimplementasikan dengan menggunakan metode ```sklearn.metrics.mean_squared_error```,\n",
        "Dalam sebagian besar masalah regresi , MSE digunakan untuk menentukan kinerja model .\n",
        "\n"
      ]
    },
    {
      "cell_type": "code",
      "metadata": {
        "colab": {
          "base_uri": "https://localhost:8080/"
        },
        "id": "G_eiGRYe-G3V",
        "outputId": "71a99b0c-98b6-4108-8301-4b414cc68fc4"
      },
      "source": [
        "from sklearn.metrics import mean_squared_error\n",
        "print(\"MSE\",mean_squared_error(y_test,y_pred))"
      ],
      "execution_count": 21,
      "outputs": [
        {
          "output_type": "stream",
          "name": "stdout",
          "text": [
            "MSE 0.6838151927437635\n"
          ]
        }
      ]
    },
    {
      "cell_type": "markdown",
      "metadata": {
        "id": "6fii2L4LcSZz"
      },
      "source": [
        "### 3.RMSE"
      ]
    },
    {
      "cell_type": "markdown",
      "metadata": {
        "id": "mh7PHCZIRHHh"
      },
      "source": [
        "Root Mean Square Error (RMSE) adalah cara standar untuk mengukur kesalahan suatu model dalam memprediksi data kuantitatif. Seperti namanya RMSE merupakan nilai akar dari MSE.\n",
        "\n",
        "$RMSE = \\sqrt{\\sum_{i=1}^{n}{\\frac{(y_i-\\hat{y_i})^2}{n}}}$\n"
      ]
    },
    {
      "cell_type": "code",
      "metadata": {
        "colab": {
          "base_uri": "https://localhost:8080/"
        },
        "id": "68Cry9Bu-L-f",
        "outputId": "f9d39955-b75a-4869-a78c-38a3eafa84b1"
      },
      "source": [
        "print(\"RMSE\",np.sqrt(mean_squared_error(y_test,y_pred)))"
      ],
      "execution_count": 22,
      "outputs": [
        {
          "output_type": "stream",
          "name": "stdout",
          "text": [
            "RMSE 0.8269311898482022\n"
          ]
        }
      ]
    },
    {
      "cell_type": "markdown",
      "metadata": {
        "id": "bPAhxzyFcUEC"
      },
      "source": [
        "### 4.RMSLE"
      ]
    },
    {
      "cell_type": "markdown",
      "metadata": {
        "id": "h-lgKd_nSmRe"
      },
      "source": [
        "Root Mean Squared Log Error (RMSLE), Sepintas seperti hanya menambahkan log pada RMSE namun RMSLE memiliki beberapa kelebihan seperti ketangguhan terhadap outlier, menghasilkan kesalahan relatif perhitungan.\n",
        "\n",
        "$RMSLE = \\sqrt{\\sum_{i=1}^{n}{\\frac{(log(y_i+1)-log(\\hat{y_i+1}))^2}{n}}}$"
      ]
    },
    {
      "cell_type": "markdown",
      "metadata": {
        "id": "_-S-lQKEWMwu"
      },
      "source": [
        "Berikut Fungsi Untuk Menghitung RMSLE"
      ]
    },
    {
      "cell_type": "code",
      "metadata": {
        "id": "zk0eYWb7UBvg"
      },
      "source": [
        "import math\n",
        "\n",
        "#A function to calculate Root Mean Squared Logarithmic Error (RMSLE)\n",
        "def rmsle(y_pred, y_test) :\n",
        "  assert len(y_test) == len(y_pred)\n",
        "  return np.sqrt(np.mean((np.log1p(y_pred) - np.log1p(y_test))**2))"
      ],
      "execution_count": 23,
      "outputs": []
    },
    {
      "cell_type": "code",
      "metadata": {
        "colab": {
          "base_uri": "https://localhost:8080/"
        },
        "id": "gn02ZFvbUFlb",
        "outputId": "2a5896cd-cce1-424a-e4fb-befd451579d4"
      },
      "source": [
        "print(\"Log RMSE\",rmsle(y_test, y_pred))"
      ],
      "execution_count": 24,
      "outputs": [
        {
          "output_type": "stream",
          "name": "stdout",
          "text": [
            "Log RMSE 0.19596298086943523\n"
          ]
        }
      ]
    },
    {
      "cell_type": "markdown",
      "metadata": {
        "id": "JGdIAqUBcXs1"
      },
      "source": [
        "### 5.R2-Score\n",
        "R2 atau R-Squared menunjukkan sebearpa cocok data dengan model regresi. Hal ini dapat dilihat dari sebearapa dekat garis regresi dengan nilai data aktual. Nilai R2 terletak antara 0 dan 1, dimana 0 menunjukkan model ini tidak sesuai dengan data yang diberikan dan nilai 1 menunjukkan bajwa model sangat cocok dengan dataset yang diberikan.\n",
        "\n",
        "R-Square dapat dihitung dengan formula\n",
        "\n",
        "$R^2 = 1-\\frac{SSE}{SST}$\n",
        "\n",
        "dimana :\n",
        "- SSE = jumlah kuadrat akibat regresi (Variasi yang bisa dijelaskan)\n",
        "- $SSE = \\sum_{i=1}^{n}(y_i-\\hat{y_i})^2$ \n",
        "- SST = Total jumlah kuadrat (Variasi Total)\n",
        "- $SST = \\sum_{i=1}^{n}({y_i}-\\bar{y_i})^2 $ \n",
        "\n",
        "R-Square dapat dihitung dengan method ```sklearn.metrics.r2_score```\n",
        "\n"
      ]
    },
    {
      "cell_type": "code",
      "metadata": {
        "colab": {
          "base_uri": "https://localhost:8080/"
        },
        "id": "4S16ahb7-Sz5",
        "outputId": "86a4d259-0ff1-475e-ac59-4c8f43672f14"
      },
      "source": [
        "from sklearn.metrics import r2_score\n",
        "r2 = r2_score(y_test,y_pred)\n",
        "print(r2)"
      ],
      "execution_count": 25,
      "outputs": [
        {
          "output_type": "stream",
          "name": "stdout",
          "text": [
            "0.8290462018140592\n"
          ]
        }
      ]
    },
    {
      "cell_type": "markdown",
      "metadata": {
        "id": "xRjoQxaHb1PF"
      },
      "source": [
        "### 6. Adjusted R2-Score"
      ]
    },
    {
      "cell_type": "markdown",
      "metadata": {
        "id": "9t9MMmc4b53Y"
      },
      "source": [
        "Adjusted R2-Score sama dengan R2 akan tetapi Adjusted R2 menyesuaikan nilai R2 untuk jumlah suku dalam model. \n",
        "\n",
        "Jadi Adjusted R2 digunakan karena dalam nilai R2 meningkat seiring penambahan jumlah variabel terlepas dari signifikansi variabel itu.\n",
        "\n",
        "Forumala : \n",
        "\n",
        "$Adj\\_R^2=1-(\\frac{(1-R^2)\\times (n-1)}{n-k-1})$\n",
        "\n",
        "Dimana :\n",
        "- k = Jumlah variabel independen dalam model\n",
        "- n = Jumlah poin dalam kumpulan data.\n",
        "\n",
        "Berikut code menghitung adjusted R square"
      ]
    },
    {
      "cell_type": "code",
      "metadata": {
        "colab": {
          "base_uri": "https://localhost:8080/"
        },
        "id": "4jiiHULt-Wp6",
        "outputId": "00942261-b0b8-46ce-c0bf-670d2a50ed90"
      },
      "source": [
        "n=40\n",
        "k=2\n",
        "adj_r2_score = 1 - ((1-r2)*(n-1)/(n-k-1))\n",
        "print(adj_r2_score)"
      ],
      "execution_count": 26,
      "outputs": [
        {
          "output_type": "stream",
          "name": "stdout",
          "text": [
            "0.8198054559661705\n"
          ]
        }
      ]
    },
    {
      "cell_type": "markdown",
      "metadata": {
        "id": "rQp2s0bs-O4F"
      },
      "source": [
        "## 3. Clustering"
      ]
    },
    {
      "cell_type": "markdown",
      "metadata": {
        "id": "ckYqK_2b9rxl"
      },
      "source": [
        "- Clustering atau klasterisasi merupakan unsuversived learning, jadi ketika memprediksi tidak menggunakan label melainkan kesamaan attribut-attribut yang dimiliki\n",
        "- Clustering adalah proses mengelompokkan data tak berlabel berdasarkan karasteristik dan kesamaannya. \n",
        "- Tiga algoritma yang dapat digunakan untuk klasterisasi, diantaranya partition-based clustering, density-based clustering dan hierarchical clustering. "
      ]
    },
    {
      "cell_type": "code",
      "metadata": {
        "colab": {
          "base_uri": "https://localhost:8080/",
          "height": 203
        },
        "id": "Va1EfA0u4VTc",
        "outputId": "7fa5b24d-6adc-4d18-c7b1-a40ed84a632c"
      },
      "source": [
        "# Import data\n",
        "df = pd.read_csv('https://raw.githubusercontent.com/shraazp/Iris-dataset/master/datasets_19_420_Iris.csv')\n",
        "#  Tampilkan 5 data pertama\n",
        "df.head()"
      ],
      "execution_count": 27,
      "outputs": [
        {
          "output_type": "execute_result",
          "data": {
            "text/html": [
              "<div>\n",
              "<style scoped>\n",
              "    .dataframe tbody tr th:only-of-type {\n",
              "        vertical-align: middle;\n",
              "    }\n",
              "\n",
              "    .dataframe tbody tr th {\n",
              "        vertical-align: top;\n",
              "    }\n",
              "\n",
              "    .dataframe thead th {\n",
              "        text-align: right;\n",
              "    }\n",
              "</style>\n",
              "<table border=\"1\" class=\"dataframe\">\n",
              "  <thead>\n",
              "    <tr style=\"text-align: right;\">\n",
              "      <th></th>\n",
              "      <th>Id</th>\n",
              "      <th>SepalLengthCm</th>\n",
              "      <th>SepalWidthCm</th>\n",
              "      <th>PetalLengthCm</th>\n",
              "      <th>PetalWidthCm</th>\n",
              "      <th>Species</th>\n",
              "    </tr>\n",
              "  </thead>\n",
              "  <tbody>\n",
              "    <tr>\n",
              "      <th>0</th>\n",
              "      <td>1</td>\n",
              "      <td>5.1</td>\n",
              "      <td>3.5</td>\n",
              "      <td>1.4</td>\n",
              "      <td>0.2</td>\n",
              "      <td>Iris-setosa</td>\n",
              "    </tr>\n",
              "    <tr>\n",
              "      <th>1</th>\n",
              "      <td>2</td>\n",
              "      <td>4.9</td>\n",
              "      <td>3.0</td>\n",
              "      <td>1.4</td>\n",
              "      <td>0.2</td>\n",
              "      <td>Iris-setosa</td>\n",
              "    </tr>\n",
              "    <tr>\n",
              "      <th>2</th>\n",
              "      <td>3</td>\n",
              "      <td>4.7</td>\n",
              "      <td>3.2</td>\n",
              "      <td>1.3</td>\n",
              "      <td>0.2</td>\n",
              "      <td>Iris-setosa</td>\n",
              "    </tr>\n",
              "    <tr>\n",
              "      <th>3</th>\n",
              "      <td>4</td>\n",
              "      <td>4.6</td>\n",
              "      <td>3.1</td>\n",
              "      <td>1.5</td>\n",
              "      <td>0.2</td>\n",
              "      <td>Iris-setosa</td>\n",
              "    </tr>\n",
              "    <tr>\n",
              "      <th>4</th>\n",
              "      <td>5</td>\n",
              "      <td>5.0</td>\n",
              "      <td>3.6</td>\n",
              "      <td>1.4</td>\n",
              "      <td>0.2</td>\n",
              "      <td>Iris-setosa</td>\n",
              "    </tr>\n",
              "  </tbody>\n",
              "</table>\n",
              "</div>"
            ],
            "text/plain": [
              "   Id  SepalLengthCm  SepalWidthCm  PetalLengthCm  PetalWidthCm      Species\n",
              "0   1            5.1           3.5            1.4           0.2  Iris-setosa\n",
              "1   2            4.9           3.0            1.4           0.2  Iris-setosa\n",
              "2   3            4.7           3.2            1.3           0.2  Iris-setosa\n",
              "3   4            4.6           3.1            1.5           0.2  Iris-setosa\n",
              "4   5            5.0           3.6            1.4           0.2  Iris-setosa"
            ]
          },
          "metadata": {},
          "execution_count": 27
        }
      ]
    },
    {
      "cell_type": "code",
      "metadata": {
        "colab": {
          "base_uri": "https://localhost:8080/",
          "height": 203
        },
        "id": "seecFAoO4VTf",
        "outputId": "3dfff140-c8e8-4d3d-8c74-9cc4b59cb474"
      },
      "source": [
        "# hapus atribut yang tidak digunakan\n",
        "df.drop(['Species','Id'], axis=1, inplace=True)\n",
        "\n",
        "# tampilkan 5 data pertama\n",
        "df.head()"
      ],
      "execution_count": 28,
      "outputs": [
        {
          "output_type": "execute_result",
          "data": {
            "text/html": [
              "<div>\n",
              "<style scoped>\n",
              "    .dataframe tbody tr th:only-of-type {\n",
              "        vertical-align: middle;\n",
              "    }\n",
              "\n",
              "    .dataframe tbody tr th {\n",
              "        vertical-align: top;\n",
              "    }\n",
              "\n",
              "    .dataframe thead th {\n",
              "        text-align: right;\n",
              "    }\n",
              "</style>\n",
              "<table border=\"1\" class=\"dataframe\">\n",
              "  <thead>\n",
              "    <tr style=\"text-align: right;\">\n",
              "      <th></th>\n",
              "      <th>SepalLengthCm</th>\n",
              "      <th>SepalWidthCm</th>\n",
              "      <th>PetalLengthCm</th>\n",
              "      <th>PetalWidthCm</th>\n",
              "    </tr>\n",
              "  </thead>\n",
              "  <tbody>\n",
              "    <tr>\n",
              "      <th>0</th>\n",
              "      <td>5.1</td>\n",
              "      <td>3.5</td>\n",
              "      <td>1.4</td>\n",
              "      <td>0.2</td>\n",
              "    </tr>\n",
              "    <tr>\n",
              "      <th>1</th>\n",
              "      <td>4.9</td>\n",
              "      <td>3.0</td>\n",
              "      <td>1.4</td>\n",
              "      <td>0.2</td>\n",
              "    </tr>\n",
              "    <tr>\n",
              "      <th>2</th>\n",
              "      <td>4.7</td>\n",
              "      <td>3.2</td>\n",
              "      <td>1.3</td>\n",
              "      <td>0.2</td>\n",
              "    </tr>\n",
              "    <tr>\n",
              "      <th>3</th>\n",
              "      <td>4.6</td>\n",
              "      <td>3.1</td>\n",
              "      <td>1.5</td>\n",
              "      <td>0.2</td>\n",
              "    </tr>\n",
              "    <tr>\n",
              "      <th>4</th>\n",
              "      <td>5.0</td>\n",
              "      <td>3.6</td>\n",
              "      <td>1.4</td>\n",
              "      <td>0.2</td>\n",
              "    </tr>\n",
              "  </tbody>\n",
              "</table>\n",
              "</div>"
            ],
            "text/plain": [
              "   SepalLengthCm  SepalWidthCm  PetalLengthCm  PetalWidthCm\n",
              "0            5.1           3.5            1.4           0.2\n",
              "1            4.9           3.0            1.4           0.2\n",
              "2            4.7           3.2            1.3           0.2\n",
              "3            4.6           3.1            1.5           0.2\n",
              "4            5.0           3.6            1.4           0.2"
            ]
          },
          "metadata": {},
          "execution_count": 28
        }
      ]
    },
    {
      "cell_type": "markdown",
      "metadata": {
        "id": "H4eikMOxdw_q"
      },
      "source": [
        "Normalisasi"
      ]
    },
    {
      "cell_type": "code",
      "metadata": {
        "colab": {
          "base_uri": "https://localhost:8080/"
        },
        "id": "iZhzbwt74VTh",
        "outputId": "0eaf7996-f124-42e1-f917-3c86291d01ce"
      },
      "source": [
        "from sklearn.preprocessing import StandardScaler\n",
        "\n",
        "df_scale = df[['SepalLengthCm', 'SepalWidthCm', 'PetalLengthCm', 'PetalWidthCm']]\n",
        "\n",
        "# instantiating the scaler\n",
        "scaler = StandardScaler()\n",
        "\n",
        "# fit and transform\n",
        "df_scale = scaler.fit_transform(df_scale)\n",
        "df_scale.shape"
      ],
      "execution_count": 29,
      "outputs": [
        {
          "output_type": "execute_result",
          "data": {
            "text/plain": [
              "(150, 4)"
            ]
          },
          "metadata": {},
          "execution_count": 29
        }
      ]
    },
    {
      "cell_type": "code",
      "metadata": {
        "colab": {
          "base_uri": "https://localhost:8080/"
        },
        "id": "NqfO785K4VTi",
        "outputId": "26076b88-fd74-4cc0-d8f7-0a4ef5c02074"
      },
      "source": [
        "df_scale[:5]"
      ],
      "execution_count": 30,
      "outputs": [
        {
          "output_type": "execute_result",
          "data": {
            "text/plain": [
              "array([[-0.90068117,  1.03205722, -1.3412724 , -1.31297673],\n",
              "       [-1.14301691, -0.1249576 , -1.3412724 , -1.31297673],\n",
              "       [-1.38535265,  0.33784833, -1.39813811, -1.31297673],\n",
              "       [-1.50652052,  0.10644536, -1.2844067 , -1.31297673],\n",
              "       [-1.02184904,  1.26346019, -1.3412724 , -1.31297673]])"
            ]
          },
          "metadata": {},
          "execution_count": 30
        }
      ]
    },
    {
      "cell_type": "code",
      "metadata": {
        "colab": {
          "base_uri": "https://localhost:8080/",
          "height": 203
        },
        "id": "AMdTV0kI4VTj",
        "outputId": "d23dd2f7-9f49-45e1-c1a1-1fa0ef4e0c20"
      },
      "source": [
        "data = pd.DataFrame(df_scale)\n",
        "data.columns = ['SepalLengthCm', 'SepalWidthCm', 'PetalLengthCm', 'PetalWidthCm']\n",
        "\n",
        "data_cluster = data.copy()\n",
        "data.head()"
      ],
      "execution_count": 31,
      "outputs": [
        {
          "output_type": "execute_result",
          "data": {
            "text/html": [
              "<div>\n",
              "<style scoped>\n",
              "    .dataframe tbody tr th:only-of-type {\n",
              "        vertical-align: middle;\n",
              "    }\n",
              "\n",
              "    .dataframe tbody tr th {\n",
              "        vertical-align: top;\n",
              "    }\n",
              "\n",
              "    .dataframe thead th {\n",
              "        text-align: right;\n",
              "    }\n",
              "</style>\n",
              "<table border=\"1\" class=\"dataframe\">\n",
              "  <thead>\n",
              "    <tr style=\"text-align: right;\">\n",
              "      <th></th>\n",
              "      <th>SepalLengthCm</th>\n",
              "      <th>SepalWidthCm</th>\n",
              "      <th>PetalLengthCm</th>\n",
              "      <th>PetalWidthCm</th>\n",
              "    </tr>\n",
              "  </thead>\n",
              "  <tbody>\n",
              "    <tr>\n",
              "      <th>0</th>\n",
              "      <td>-0.900681</td>\n",
              "      <td>1.032057</td>\n",
              "      <td>-1.341272</td>\n",
              "      <td>-1.312977</td>\n",
              "    </tr>\n",
              "    <tr>\n",
              "      <th>1</th>\n",
              "      <td>-1.143017</td>\n",
              "      <td>-0.124958</td>\n",
              "      <td>-1.341272</td>\n",
              "      <td>-1.312977</td>\n",
              "    </tr>\n",
              "    <tr>\n",
              "      <th>2</th>\n",
              "      <td>-1.385353</td>\n",
              "      <td>0.337848</td>\n",
              "      <td>-1.398138</td>\n",
              "      <td>-1.312977</td>\n",
              "    </tr>\n",
              "    <tr>\n",
              "      <th>3</th>\n",
              "      <td>-1.506521</td>\n",
              "      <td>0.106445</td>\n",
              "      <td>-1.284407</td>\n",
              "      <td>-1.312977</td>\n",
              "    </tr>\n",
              "    <tr>\n",
              "      <th>4</th>\n",
              "      <td>-1.021849</td>\n",
              "      <td>1.263460</td>\n",
              "      <td>-1.341272</td>\n",
              "      <td>-1.312977</td>\n",
              "    </tr>\n",
              "  </tbody>\n",
              "</table>\n",
              "</div>"
            ],
            "text/plain": [
              "   SepalLengthCm  SepalWidthCm  PetalLengthCm  PetalWidthCm\n",
              "0      -0.900681      1.032057      -1.341272     -1.312977\n",
              "1      -1.143017     -0.124958      -1.341272     -1.312977\n",
              "2      -1.385353      0.337848      -1.398138     -1.312977\n",
              "3      -1.506521      0.106445      -1.284407     -1.312977\n",
              "4      -1.021849      1.263460      -1.341272     -1.312977"
            ]
          },
          "metadata": {},
          "execution_count": 31
        }
      ]
    },
    {
      "cell_type": "code",
      "metadata": {
        "colab": {
          "base_uri": "https://localhost:8080/",
          "height": 295
        },
        "id": "vqNAFr-p4VTj",
        "outputId": "9d2edba3-80a6-4644-bc2e-4d5059932d61"
      },
      "source": [
        "data.describe()"
      ],
      "execution_count": 32,
      "outputs": [
        {
          "output_type": "execute_result",
          "data": {
            "text/html": [
              "<div>\n",
              "<style scoped>\n",
              "    .dataframe tbody tr th:only-of-type {\n",
              "        vertical-align: middle;\n",
              "    }\n",
              "\n",
              "    .dataframe tbody tr th {\n",
              "        vertical-align: top;\n",
              "    }\n",
              "\n",
              "    .dataframe thead th {\n",
              "        text-align: right;\n",
              "    }\n",
              "</style>\n",
              "<table border=\"1\" class=\"dataframe\">\n",
              "  <thead>\n",
              "    <tr style=\"text-align: right;\">\n",
              "      <th></th>\n",
              "      <th>SepalLengthCm</th>\n",
              "      <th>SepalWidthCm</th>\n",
              "      <th>PetalLengthCm</th>\n",
              "      <th>PetalWidthCm</th>\n",
              "    </tr>\n",
              "  </thead>\n",
              "  <tbody>\n",
              "    <tr>\n",
              "      <th>count</th>\n",
              "      <td>1.500000e+02</td>\n",
              "      <td>1.500000e+02</td>\n",
              "      <td>1.500000e+02</td>\n",
              "      <td>1.500000e+02</td>\n",
              "    </tr>\n",
              "    <tr>\n",
              "      <th>mean</th>\n",
              "      <td>-2.775558e-16</td>\n",
              "      <td>-5.140333e-16</td>\n",
              "      <td>1.154632e-16</td>\n",
              "      <td>9.251859e-16</td>\n",
              "    </tr>\n",
              "    <tr>\n",
              "      <th>std</th>\n",
              "      <td>1.003350e+00</td>\n",
              "      <td>1.003350e+00</td>\n",
              "      <td>1.003350e+00</td>\n",
              "      <td>1.003350e+00</td>\n",
              "    </tr>\n",
              "    <tr>\n",
              "      <th>min</th>\n",
              "      <td>-1.870024e+00</td>\n",
              "      <td>-2.438987e+00</td>\n",
              "      <td>-1.568735e+00</td>\n",
              "      <td>-1.444450e+00</td>\n",
              "    </tr>\n",
              "    <tr>\n",
              "      <th>25%</th>\n",
              "      <td>-9.006812e-01</td>\n",
              "      <td>-5.877635e-01</td>\n",
              "      <td>-1.227541e+00</td>\n",
              "      <td>-1.181504e+00</td>\n",
              "    </tr>\n",
              "    <tr>\n",
              "      <th>50%</th>\n",
              "      <td>-5.250608e-02</td>\n",
              "      <td>-1.249576e-01</td>\n",
              "      <td>3.362659e-01</td>\n",
              "      <td>1.332259e-01</td>\n",
              "    </tr>\n",
              "    <tr>\n",
              "      <th>75%</th>\n",
              "      <td>6.745011e-01</td>\n",
              "      <td>5.692513e-01</td>\n",
              "      <td>7.627586e-01</td>\n",
              "      <td>7.905908e-01</td>\n",
              "    </tr>\n",
              "    <tr>\n",
              "      <th>max</th>\n",
              "      <td>2.492019e+00</td>\n",
              "      <td>3.114684e+00</td>\n",
              "      <td>1.786341e+00</td>\n",
              "      <td>1.710902e+00</td>\n",
              "    </tr>\n",
              "  </tbody>\n",
              "</table>\n",
              "</div>"
            ],
            "text/plain": [
              "       SepalLengthCm  SepalWidthCm  PetalLengthCm  PetalWidthCm\n",
              "count   1.500000e+02  1.500000e+02   1.500000e+02  1.500000e+02\n",
              "mean   -2.775558e-16 -5.140333e-16   1.154632e-16  9.251859e-16\n",
              "std     1.003350e+00  1.003350e+00   1.003350e+00  1.003350e+00\n",
              "min    -1.870024e+00 -2.438987e+00  -1.568735e+00 -1.444450e+00\n",
              "25%    -9.006812e-01 -5.877635e-01  -1.227541e+00 -1.181504e+00\n",
              "50%    -5.250608e-02 -1.249576e-01   3.362659e-01  1.332259e-01\n",
              "75%     6.745011e-01  5.692513e-01   7.627586e-01  7.905908e-01\n",
              "max     2.492019e+00  3.114684e+00   1.786341e+00  1.710902e+00"
            ]
          },
          "metadata": {},
          "execution_count": 32
        }
      ]
    },
    {
      "cell_type": "markdown",
      "metadata": {
        "id": "8QKLTjdB4VTm"
      },
      "source": [
        "### 1. Elbow Method"
      ]
    },
    {
      "cell_type": "markdown",
      "metadata": {
        "id": "52Sxuk-BePfI"
      },
      "source": [
        "- Dalam algoritma k-means kita perlu menentukan nilai k atau jumlah klaster yang ingin kita gunakan. Salah satu metode terbaik menghitung nilai k dapat menggunakan Metode Elbow.\n",
        "\n",
        "- Untuk mencari elbow pertama kita plot hasil klasterisasi yang menggunakan beberpa cluster yang berbeda\n",
        "- Untuk mencari nilai k yang optimal kita harus melihat nilai k pada elbow\n",
        "- Cara melihat jumlah klaster terbaik berdasarkan elbow method adalah dengan melihat titik dimana distortion/inertia mulai menurun secara linear atau mulai mendatar secara signifikan. Titik inilah yang merupakan \"elbow\""
      ]
    },
    {
      "cell_type": "code",
      "metadata": {
        "colab": {
          "base_uri": "https://localhost:8080/",
          "height": 318
        },
        "id": "5bzm5gV84VTm",
        "outputId": "1b9843af-a1af-4e28-b34c-526973b460de"
      },
      "source": [
        "# Menentukan jumlah K\n",
        "from sklearn.cluster import KMeans\n",
        "\n",
        "# buat list inertia\n",
        "clusters = []\n",
        "for i in range (1,11):\n",
        "    km = KMeans(n_clusters=i).fit(data)\n",
        "    clusters.append(km.inertia_)\n",
        "\n",
        "# tampilkan plot\n",
        "fig, ax = plt.subplots(figsize=(8,4))\n",
        "sns.lineplot(x=list(range(1,11)), y=clusters, ax=ax)\n",
        "ax.set_title('Elbow')\n",
        "ax.set_xlabel('Clusters')\n",
        "ax.set_ylabel('Inertia')"
      ],
      "execution_count": 33,
      "outputs": [
        {
          "output_type": "execute_result",
          "data": {
            "text/plain": [
              "Text(0, 0.5, 'Inertia')"
            ]
          },
          "metadata": {},
          "execution_count": 33
        },
        {
          "output_type": "display_data",
          "data": {
            "image/png": "[encoded data removed]",
            "text/plain": [
              "<Figure size 576x288 with 1 Axes>"
            ]
          },
          "metadata": {}
        }
      ]
    },
    {
      "cell_type": "markdown",
      "metadata": {
        "id": "k4GnIS7YIirF"
      },
      "source": [
        "Pada plot diatas kemungkinan elbow berada di titik 3, jadi disini untuk pengujian akan digunakan n=3 dan n=4 untuk klastering"
      ]
    },
    {
      "cell_type": "code",
      "metadata": {
        "colab": {
          "base_uri": "https://localhost:8080/",
          "height": 417
        },
        "id": "0a9bSMZH4VTn",
        "outputId": "85eb2102-6a69-428d-fc0d-94dc544ad3b0"
      },
      "source": [
        "## Melatih model\n",
        "# Create Model\n",
        "model_kmeans3 = KMeans(n_clusters=3)\n",
        "model_kmeans4 = KMeans(n_clusters=4)\n",
        "\n",
        "# Train Model\n",
        "model_kmeans3.fit(data)\n",
        "model_kmeans4.fit(data)\n",
        "\n",
        "# Menambah Label pada data\n",
        "data_cluster['cluster_kmeans3'] = model_kmeans3.labels_\n",
        "data_cluster['cluster_kmeans4'] = model_kmeans4.labels_\n",
        "\n",
        "data_cluster"
      ],
      "execution_count": 34,
      "outputs": [
        {
          "output_type": "execute_result",
          "data": {
            "text/html": [
              "<div>\n",
              "<style scoped>\n",
              "    .dataframe tbody tr th:only-of-type {\n",
              "        vertical-align: middle;\n",
              "    }\n",
              "\n",
              "    .dataframe tbody tr th {\n",
              "        vertical-align: top;\n",
              "    }\n",
              "\n",
              "    .dataframe thead th {\n",
              "        text-align: right;\n",
              "    }\n",
              "</style>\n",
              "<table border=\"1\" class=\"dataframe\">\n",
              "  <thead>\n",
              "    <tr style=\"text-align: right;\">\n",
              "      <th></th>\n",
              "      <th>SepalLengthCm</th>\n",
              "      <th>SepalWidthCm</th>\n",
              "      <th>PetalLengthCm</th>\n",
              "      <th>PetalWidthCm</th>\n",
              "      <th>cluster_kmeans3</th>\n",
              "      <th>cluster_kmeans4</th>\n",
              "    </tr>\n",
              "  </thead>\n",
              "  <tbody>\n",
              "    <tr>\n",
              "      <th>0</th>\n",
              "      <td>-0.900681</td>\n",
              "      <td>1.032057</td>\n",
              "      <td>-1.341272</td>\n",
              "      <td>-1.312977</td>\n",
              "      <td>0</td>\n",
              "      <td>2</td>\n",
              "    </tr>\n",
              "    <tr>\n",
              "      <th>1</th>\n",
              "      <td>-1.143017</td>\n",
              "      <td>-0.124958</td>\n",
              "      <td>-1.341272</td>\n",
              "      <td>-1.312977</td>\n",
              "      <td>0</td>\n",
              "      <td>0</td>\n",
              "    </tr>\n",
              "    <tr>\n",
              "      <th>2</th>\n",
              "      <td>-1.385353</td>\n",
              "      <td>0.337848</td>\n",
              "      <td>-1.398138</td>\n",
              "      <td>-1.312977</td>\n",
              "      <td>0</td>\n",
              "      <td>0</td>\n",
              "    </tr>\n",
              "    <tr>\n",
              "      <th>3</th>\n",
              "      <td>-1.506521</td>\n",
              "      <td>0.106445</td>\n",
              "      <td>-1.284407</td>\n",
              "      <td>-1.312977</td>\n",
              "      <td>0</td>\n",
              "      <td>0</td>\n",
              "    </tr>\n",
              "    <tr>\n",
              "      <th>4</th>\n",
              "      <td>-1.021849</td>\n",
              "      <td>1.263460</td>\n",
              "      <td>-1.341272</td>\n",
              "      <td>-1.312977</td>\n",
              "      <td>0</td>\n",
              "      <td>2</td>\n",
              "    </tr>\n",
              "    <tr>\n",
              "      <th>...</th>\n",
              "      <td>...</td>\n",
              "      <td>...</td>\n",
              "      <td>...</td>\n",
              "      <td>...</td>\n",
              "      <td>...</td>\n",
              "      <td>...</td>\n",
              "    </tr>\n",
              "    <tr>\n",
              "      <th>145</th>\n",
              "      <td>1.038005</td>\n",
              "      <td>-0.124958</td>\n",
              "      <td>0.819624</td>\n",
              "      <td>1.447956</td>\n",
              "      <td>2</td>\n",
              "      <td>3</td>\n",
              "    </tr>\n",
              "    <tr>\n",
              "      <th>146</th>\n",
              "      <td>0.553333</td>\n",
              "      <td>-1.281972</td>\n",
              "      <td>0.705893</td>\n",
              "      <td>0.922064</td>\n",
              "      <td>1</td>\n",
              "      <td>1</td>\n",
              "    </tr>\n",
              "    <tr>\n",
              "      <th>147</th>\n",
              "      <td>0.795669</td>\n",
              "      <td>-0.124958</td>\n",
              "      <td>0.819624</td>\n",
              "      <td>1.053537</td>\n",
              "      <td>2</td>\n",
              "      <td>3</td>\n",
              "    </tr>\n",
              "    <tr>\n",
              "      <th>148</th>\n",
              "      <td>0.432165</td>\n",
              "      <td>0.800654</td>\n",
              "      <td>0.933356</td>\n",
              "      <td>1.447956</td>\n",
              "      <td>2</td>\n",
              "      <td>3</td>\n",
              "    </tr>\n",
              "    <tr>\n",
              "      <th>149</th>\n",
              "      <td>0.068662</td>\n",
              "      <td>-0.124958</td>\n",
              "      <td>0.762759</td>\n",
              "      <td>0.790591</td>\n",
              "      <td>1</td>\n",
              "      <td>1</td>\n",
              "    </tr>\n",
              "  </tbody>\n",
              "</table>\n",
              "<p>150 rows × 6 columns</p>\n",
              "</div>"
            ],
            "text/plain": [
              "     SepalLengthCm  SepalWidthCm  ...  cluster_kmeans3  cluster_kmeans4\n",
              "0        -0.900681      1.032057  ...                0                2\n",
              "1        -1.143017     -0.124958  ...                0                0\n",
              "2        -1.385353      0.337848  ...                0                0\n",
              "3        -1.506521      0.106445  ...                0                0\n",
              "4        -1.021849      1.263460  ...                0                2\n",
              "..             ...           ...  ...              ...              ...\n",
              "145       1.038005     -0.124958  ...                2                3\n",
              "146       0.553333     -1.281972  ...                1                1\n",
              "147       0.795669     -0.124958  ...                2                3\n",
              "148       0.432165      0.800654  ...                2                3\n",
              "149       0.068662     -0.124958  ...                1                1\n",
              "\n",
              "[150 rows x 6 columns]"
            ]
          },
          "metadata": {},
          "execution_count": 34
        }
      ]
    },
    {
      "cell_type": "markdown",
      "metadata": {
        "id": "XxBlxuq9KCPc"
      },
      "source": [
        "Menampilkan scatter plot hasil cluster"
      ]
    },
    {
      "cell_type": "code",
      "metadata": {
        "colab": {
          "base_uri": "https://localhost:8080/",
          "height": 672
        },
        "id": "nTv7MMsB4VTo",
        "outputId": "8a843cfe-cdef-4e59-8fcb-ebfb495e2122"
      },
      "source": [
        "## Tampilkan Plot\n",
        "plt.figure(figsize=(8,4))\n",
        "sns.scatterplot(data_cluster['SepalWidthCm'], data_cluster['SepalLengthCm'], hue=data_cluster['cluster_kmeans3'], palette=sns.color_palette('hls',3))\n",
        "plt.title(' KMeans 3 cluster')\n",
        "\n",
        "plt.figure(figsize=(8,4))\n",
        "sns.scatterplot(data_cluster['SepalWidthCm'], data_cluster['SepalLengthCm'], hue=data_cluster['cluster_kmeans4'], palette=sns.color_palette('hls',4))\n",
        "plt.title(' KMeans 4 cluster')\n",
        "plt.show()"
      ],
      "execution_count": 35,
      "outputs": [
        {
          "output_type": "stream",
          "name": "stderr",
          "text": [
            "/usr/local/lib/python3.7/dist-packages/seaborn/_decorators.py:43: FutureWarning: Pass the following variables as keyword args: x, y. From version 0.12, the only valid positional argument will be `data`, and passing other arguments without an explicit keyword will result in an error or misinterpretation.\n",
            "  FutureWarning\n",
            "/usr/local/lib/python3.7/dist-packages/seaborn/_decorators.py:43: FutureWarning: Pass the following variables as keyword args: x, y. From version 0.12, the only valid positional argument will be `data`, and passing other arguments without an explicit keyword will result in an error or misinterpretation.\n",
            "  FutureWarning\n"
          ]
        },
        {
          "output_type": "display_data",
          "data": {
            "image/png": "[encoded data removed]",
            "text/plain": [
              "<Figure size 576x288 with 1 Axes>"
            ]
          },
          "metadata": {}
        },
        {
          "output_type": "display_data",
          "data": {
            "image/png": "[encoded data removed]",
            "text/plain": [
              "<Figure size 576x288 with 1 Axes>"
            ]
          },
          "metadata": {}
        }
      ]
    },
    {
      "cell_type": "markdown",
      "metadata": {
        "id": "vKUoPo9H-l2i"
      },
      "source": [
        "### 2. Silhouette Score"
      ]
    },
    {
      "cell_type": "markdown",
      "metadata": {
        "id": "LM-d5tGNKZdZ"
      },
      "source": [
        "- Silhouette Coefficient atau Silhouette Score adalah metrik yang digunakan untuk menghitung seberapa baik suatu teknik clustering. \n",
        "- Selain itu silhouette score juga dapat menggunakan skor siluet untuk memeriksa jumlah cluster yang optimal. \n",
        "- Silhouette Score dianggap lebih baik dari pada elbow karena pada elbow kadang cukup membingungkan untuk menentukan titik elbownya sedangkan pada silhouette score memberikan kembalian berupa score yang perbedaannya dapat dilihat jelas\n",
        "- Nilai silhoette score berkisar dari -1 hingga 1. \n",
        "  - 1: Berarti cluster terpisah satu sama lain dan dibedakan dengan jelas.\n",
        "  - 0: Berarti klaster-klasternya indiferen, atau bisa dikatakan jarak antar klaster tidak signifikan.\n",
        "  - -1: Berarti cluster ditugaskan dengan cara yang salah.\n",
        "\n",
        "\n",
        "<img src=\"https://miro.medium.com/max/700/1*cUcY9jSBHFMqCmX-fp8BvQ.jpeg\" alt=\"drawing\" width=\"400\"/>\n",
        "\n",
        "\n",
        "\n",
        "$Silhouette Score = \\frac{(b-a)}{max(a,b)}$\n",
        "\n",
        "\n",
        "Silhouette Score dapat dihitung dengan method ```sklearn.metrics.silhouette_score```\n",
        "\n",
        "Parameter dari method ini meliputi :\n",
        "- X, array fitur yang akan diklaster\n",
        "- labels, label prediksi untuk tiap sample\n",
        "\n"
      ]
    },
    {
      "cell_type": "markdown",
      "metadata": {
        "id": "J5IKltIoLhAx"
      },
      "source": [
        "Berikut akan dicari silhouette score dari model klustering kmeans untuk jumlah cluster 2, 3 dan 4"
      ]
    },
    {
      "cell_type": "code",
      "metadata": {
        "colab": {
          "base_uri": "https://localhost:8080/"
        },
        "id": "zxJqBfWCEIKg",
        "outputId": "18845e31-db8d-4260-dd46-60bac1ace37d"
      },
      "source": [
        "from sklearn.metrics import silhouette_score\n",
        "\n",
        "silhouette_scores = []\n",
        "\n",
        "for k in range(2, 5):\n",
        "    model2 = KMeans(n_clusters=k, random_state=42)\n",
        "    model2.fit(data)\n",
        "    score = silhouette_score(data, model2.labels_)\n",
        "    print(\"Silhouette Score for k = \", k, \"is\", score)\n",
        "    silhouette_scores.append(score)"
      ],
      "execution_count": 36,
      "outputs": [
        {
          "output_type": "stream",
          "name": "stdout",
          "text": [
            "Silhouette Score for k =  2 is 0.580184463257396\n",
            "Silhouette Score for k =  3 is 0.4589717867018717\n",
            "Silhouette Score for k =  4 is 0.38724679456128813\n"
          ]
        }
      ]
    },
    {
      "cell_type": "markdown",
      "metadata": {
        "id": "AuMxhFPPLuHJ"
      },
      "source": [
        "Berdasarkan silhoette score jumlah kluster 2 memiliki score tertinggi. artinya pada n=2 kluster terpisah dengan cukup baik.\n",
        "\n",
        "Jika disilhoette score diplot hasilnya seperti berikut"
      ]
    },
    {
      "cell_type": "code",
      "metadata": {
        "colab": {
          "base_uri": "https://localhost:8080/",
          "height": 285
        },
        "id": "oMiDpe8ZJImC",
        "outputId": "f015ae63-94b5-41dd-fabc-76845600c9dc"
      },
      "source": [
        "plt.plot(range(2, 5), silhouette_scores, marker='o')\n",
        "plt.xlabel('Number of clusters (K)')\n",
        "plt.ylabel('Silhouette score')\n",
        "plt.savefig('silhouette plot.png')"
      ],
      "execution_count": 37,
      "outputs": [
        {
          "output_type": "display_data",
          "data": {
            "image/png": "[encoded data removed]",
            "text/plain": [
              "<Figure size 432x288 with 1 Axes>"
            ]
          },
          "metadata": {}
        }
      ]
    }
  ]
}